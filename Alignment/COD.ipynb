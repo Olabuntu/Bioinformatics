{
 "cells": [
  {
   "cell_type": "markdown",
   "metadata": {},
   "source": [
    "# INTRODUCTION"
   ]
  },
  {
   "cell_type": "markdown",
   "metadata": {},
   "source": [
    "Project Title: Pairwise Sequence Alignment: Global and Local Alignment Using Python\n",
    "\n",
    "Introduction:\n",
    "Pairwise sequence alignment is a fundamental technique in bioinformatics used to identify regions of similarity between two sequences, such as DNA, RNA, or proteins. These similarities can provide insights into functional, structural, and evolutionary relationships. There are two primary types of pairwise alignment: global alignment and local alignment.\n",
    "\n",
    "Global alignment aims to align sequences along their entire length, which is useful when comparing sequences of similar length and overall similarity.\n",
    "Local alignment focuses on finding the most similar regions within two sequences, which is particularly useful when comparing sequences with different lengths or when only certain regions are conserved.\n",
    "Both methods are crucial for understanding biological functions, evolutionary relationships, and for identifying conserved motifs or domains in sequences.\n",
    "\n",
    "Aim:\n",
    "The aim of this project is to implement both global and local pairwise sequence alignment algorithms in Python, providing a tool to compare biological sequences and identify regions of similarity.\n",
    "\n",
    "Objective:\n",
    "To implement the Needleman-Wunsch algorithm for global alignment of two sequences.\n",
    "To implement the Smith-Waterman algorithm for local alignment of two sequences."
   ]
  },
  {
   "cell_type": "markdown",
   "metadata": {},
   "source": [
    "# **PAIWISE ALIGNMENT**"
   ]
  },
  {
   "cell_type": "code",
   "execution_count": 9,
   "metadata": {},
   "outputs": [],
   "source": [
    "import Bio\n",
    "from Bio import SeqIO,Entrez\n",
    "from Bio.Seq import Seq\n",
    "from Bio.Blast import NCBIWWW, NCBIXML\n",
    "from Bio import SearchIO\n",
    "from Bio import pairwise2"
   ]
  },
  {
   "cell_type": "markdown",
   "metadata": {},
   "source": [
    "# GLOBAL ALIGNMENT"
   ]
  },
  {
   "cell_type": "code",
   "execution_count": 3,
   "metadata": {},
   "outputs": [],
   "source": [
    "seq1= Seq(\"ATCGTACGATCGATCGATCGATCGATCGATCGATCGATCGATCGATCGATCGATCGATCG\")\n",
    "seq2= Seq(\"GATCGATCGATCGATCGATCGATCGATCGATCGATCGATCGATCGATCGATCGATCGATCGA\")"
   ]
  },
  {
   "cell_type": "code",
   "execution_count": 4,
   "metadata": {},
   "outputs": [
    {
     "name": "stdout",
     "output_type": "stream",
     "text": [
      "-ATCGTA-CGATCGATCGATCGATCGATCGATCGATCGATCGATCGATCGATCGATCGATCG-\n",
      " |||| | |||||||||||||||||||||||||||||||||||||||||||||||||||||| \n",
      "GATCG-ATCGATCGATCGATCGATCGATCGATCGATCGATCGATCGATCGATCGATCGATCGA\n",
      "  Score=59\n",
      "\n",
      "-ATCG-TACGATCGATCGATCGATCGATCGATCGATCGATCGATCGATCGATCGATCGATCG-\n",
      " |||| | |||||||||||||||||||||||||||||||||||||||||||||||||||||| \n",
      "GATCGAT-CGATCGATCGATCGATCGATCGATCGATCGATCGATCGATCGATCGATCGATCGA\n",
      "  Score=59\n",
      "\n"
     ]
    }
   ],
   "source": [
    "\n",
    "alignments = pairwise2.align.globalxx(seq1, seq2)\n",
    "\n",
    "for alignment in alignments:\n",
    "    print(pairwise2.format_alignment(*alignment))"
   ]
  },
  {
   "cell_type": "code",
   "execution_count": 5,
   "metadata": {},
   "outputs": [
    {
     "name": "stdout",
     "output_type": "stream",
     "text": [
      "-ATCGTA-CGATCGATCGATCGATCGATCGATCGATCGATCGATCGATCGATCGATCGATCG-\n",
      " |||| | |||||||||||||||||||||||||||||||||||||||||||||||||||||| \n",
      "GATCG-ATCGATCGATCGATCGATCGATCGATCGATCGATCGATCGATCGATCGATCGATCGA\n",
      "  Score=116\n",
      "\n",
      "-ATCG-TACGATCGATCGATCGATCGATCGATCGATCGATCGATCGATCGATCGATCGATCG-\n",
      " |||| | |||||||||||||||||||||||||||||||||||||||||||||||||||||| \n",
      "GATCGAT-CGATCGATCGATCGATCGATCGATCGATCGATCGATCGATCGATCGATCGATCGA\n",
      "  Score=116\n",
      "\n"
     ]
    }
   ],
   "source": [
    "alignments = pairwise2.align.globalms(seq1, seq2, 2, -1, -0.5, -0.1)\n",
    "\n",
    "for alignment in alignments:\n",
    "    print(pairwise2.format_alignment(*alignment))"
   ]
  },
  {
   "cell_type": "markdown",
   "metadata": {},
   "source": [
    "# LOCAL ALIGNMENT"
   ]
  },
  {
   "cell_type": "code",
   "execution_count": 6,
   "metadata": {},
   "outputs": [],
   "source": [
    "seq1 = Seq(\"TAAGGATGCGTATAGCTTGGCTT\")\n",
    "seq2 = Seq(\"GGATCGAAGCTTGGCTTAGCTT\")"
   ]
  },
  {
   "cell_type": "code",
   "execution_count": 7,
   "metadata": {},
   "outputs": [
    {
     "name": "stdout",
     "output_type": "stream",
     "text": [
      "4 GGATGCGTATAGCTTGGCT-----T\n",
      "  |||| || | |||||||||     |\n",
      "1 GGAT-CG-A-AGCTTGGCTTAGCTT\n",
      "  Score=17\n",
      "\n",
      "4 GGATGCGTATAGCTTGGC-T----T\n",
      "  |||| || | |||||||| |    |\n",
      "1 GGAT-CG-A-AGCTTGGCTTAGCTT\n",
      "  Score=17\n",
      "\n",
      "4 GGATGCGTATAGCTTGGC-----TT\n",
      "  |||| || | ||||||||     ||\n",
      "1 GGAT-CG-A-AGCTTGGCTTAGCTT\n",
      "  Score=17\n",
      "\n",
      "4 GGATGCGTATAGCTTGG-----CTT\n",
      "  |||| || | |||||||     |||\n",
      "1 GGAT-CG-A-AGCTTGGCTTAGCTT\n",
      "  Score=17\n",
      "\n",
      "4 GGATGCGTATAGCTTG-----GCTT\n",
      "  |||| || | ||||||     ||||\n",
      "1 GGAT-CG-A-AGCTTGGCTTAGCTT\n",
      "  Score=17\n",
      "\n",
      "4 GGATGCGTATAGCTT-G----GCTT\n",
      "  |||| || | ||||| |    ||||\n",
      "1 GGAT-CG-A-AGCTTGGCTTAGCTT\n",
      "  Score=17\n",
      "\n",
      "4 GGATGCGTATAGCTTGGCT----T\n",
      "  |||| || | |||||||||    |\n",
      "1 GGAT-CG-A-AGCTTGGCTTAGCT\n",
      "  Score=17\n",
      "\n",
      "4 GGATGCGTATAGCTTGGC-T---T\n",
      "  |||| || | |||||||| |   |\n",
      "1 GGAT-CG-A-AGCTTGGCTTAGCT\n",
      "  Score=17\n",
      "\n",
      "4 GGATGCGTATAGCTTGGCTT\n",
      "  |||| || | ||||||||||\n",
      "1 GGAT-CG-A-AGCTTGGCTT\n",
      "  Score=17\n",
      "\n"
     ]
    }
   ],
   "source": [
    "alignments = pairwise2.align.localxx(seq1, seq2)\n",
    "\n",
    "for alignment in alignments:\n",
    "    print(pairwise2.format_alignment(*alignment))"
   ]
  },
  {
   "cell_type": "code",
   "execution_count": 8,
   "metadata": {},
   "outputs": [
    {
     "name": "stdout",
     "output_type": "stream",
     "text": [
      "4 GGATGCGTATAGCTTGGCTT\n",
      "  |||| || | ||||||||||\n",
      "1 GGAT-CG-A-AGCTTGGCTT\n",
      "  Score=32.5\n",
      "\n"
     ]
    }
   ],
   "source": [
    "alignments = pairwise2.align.localms(seq1, seq2, 2, -1, -0.5, -0.1)\n",
    "\n",
    "for alignment in alignments:\n",
    "    print(pairwise2.format_alignment(*alignment))"
   ]
  }
 ],
 "metadata": {
  "kernelspec": {
   "display_name": "Python 3",
   "language": "python",
   "name": "python3"
  },
  "language_info": {
   "codemirror_mode": {
    "name": "ipython",
    "version": 3
   },
   "file_extension": ".py",
   "mimetype": "text/x-python",
   "name": "python",
   "nbconvert_exporter": "python",
   "pygments_lexer": "ipython3",
   "version": "3.10.12"
  }
 },
 "nbformat": 4,
 "nbformat_minor": 2
}
